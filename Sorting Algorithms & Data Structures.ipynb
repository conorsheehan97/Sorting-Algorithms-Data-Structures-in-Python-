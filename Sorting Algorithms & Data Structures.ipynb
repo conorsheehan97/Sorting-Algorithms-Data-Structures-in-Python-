{
 "cells": [
  {
   "cell_type": "markdown",
   "id": "d7c18535-8673-4940-a89b-84b31d71602d",
   "metadata": {},
   "source": [
    "# Sorting Algorithms"
   ]
  },
  {
   "cell_type": "markdown",
   "id": "dcf3b219-661e-43b8-8a61-6e08d3f2b113",
   "metadata": {},
   "source": [
    "Sorting algorithms are methods used to arrange elements of a list or array in a particular order, typically in ascending or descending order. These algorithms reorder the elements based on certain criteria, such as numerical or lexicographical order, to make them easier to search, analyze, or display.\n",
    "\n",
    "The purpose of this section is mainly just for my own understanding. Just to see these lads in action. "
   ]
  },
  {
   "cell_type": "markdown",
   "id": "7871647c-bd88-447d-9ddc-fbfa4caa83d4",
   "metadata": {},
   "source": [
    "## Selection Sort"
   ]
  },
  {
   "cell_type": "markdown",
   "id": "f99246a9-e7f7-4363-ba92-0aca91071b4f",
   "metadata": {},
   "source": [
    "Selection sort is a simple sorting algorithm that works by repeatedly finding the minimum (or maximum) element from the unsorted part of the list and moving it to the beginning (or end) of the sorted part. Here's how it works:\n",
    "\n",
    " - Divide the input list into two parts: a sorted sublist and an unsorted sublist.\n",
    " - Find the smallest element in the unsorted sublist.\n",
    " - Swap the smallest element with the first element of the unsorted sublist, effectively expanding the sorted sublist by one element and reducing the unsorted sublist by one element.\n",
    " - Repeat steps 2 and 3 until the unsorted sublist becomes empty.\n",
    " - \n",
    "Selection sort has a time complexity of $O(n^{2})$, making it inefficient for large datasets."
   ]
  },
  {
   "cell_type": "code",
   "execution_count": 1,
   "id": "204c4518-3f71-4380-bfb1-64cb233d9a58",
   "metadata": {},
   "outputs": [
    {
     "name": "stdout",
     "output_type": "stream",
     "text": [
      "Sorted array: [1, 2, 3, 4, 5, 8, 9]\n"
     ]
    }
   ],
   "source": [
    "def selection_sort(arr):\n",
    "    n = len(arr)\n",
    "    for i in range(n - 1):\n",
    "        # Find the index of the minimum element in the unsorted part\n",
    "        min_idx = i\n",
    "        for j in range(i + 1, n):\n",
    "            if arr[j] < arr[min_idx]:\n",
    "                min_idx = j\n",
    "        # Swap the minimum element with the first element of the unsorted part\n",
    "        arr[i], arr[min_idx] = arr[min_idx], arr[i]\n",
    "\n",
    "# Example usage:\n",
    "arr = [2,8,5,3,9,4,1]\n",
    "selection_sort(arr)\n",
    "print(\"Sorted array:\", arr)\n"
   ]
  },
  {
   "cell_type": "markdown",
   "id": "80c13a06-8206-4faa-9ec0-3ecdbf01870e",
   "metadata": {},
   "source": [
    "## Bubble Sort"
   ]
  },
  {
   "cell_type": "markdown",
   "id": "ecc7c66b-9bbf-4827-a42c-c6960be0a412",
   "metadata": {},
   "source": [
    "Bubble sort is a simple sorting algorithm that repeatedly steps through the list, compares adjacent elements, and swaps them if they are in the wrong order. The pass through the list is repeated until the list is sorted. \n",
    "\n",
    "Here's a basic description of how bubble sort works:\n",
    "\n",
    "1. Start at the beginning of the array.\n",
    "2. Compare the first two elements of the array. If the first element is greater than the second element, swap them.\n",
    "3. Move to the next pair of elements (the second and third elements), and continue comparing and swapping if necessary.\n",
    "4. Continue this process until you reach the end of the array. At this point, the largest element will be at the last position.\n",
    "5. Repeat steps 1-4 for the remaining elements in the array, excluding the last element that is already sorted.\n",
    "6. Continue this process until the entire array is sorted.\n",
    "\n",
    "Bubble sort has a time complexity of $O(n^{2})$ in the worst case scenario, making it inefficient for large lists, but it is relatively easy to understand and implement."
   ]
  },
  {
   "cell_type": "code",
   "execution_count": 2,
   "id": "c834bd22-3e0a-469f-82bb-c5252396bdcb",
   "metadata": {},
   "outputs": [
    {
     "name": "stdout",
     "output_type": "stream",
     "text": [
      "Sorted array is: [1, 2, 3, 4, 5, 8, 9]\n"
     ]
    }
   ],
   "source": [
    "def bubble_sort(arr):\n",
    "    n = len(arr)\n",
    "    # Traverse through all elements in the array\n",
    "    for i in range(n):\n",
    "        # Last i elements are already in place, so we don't need to check them again.\n",
    "        for j in range(0, n-i-1):\n",
    "            # Traverse the array from 0 to n-i-1\n",
    "            # Swap if the element found is greater than the next element\n",
    "            if arr[j] > arr[j+1]:\n",
    "                arr[j], arr[j+1] = arr[j+1], arr[j]\n",
    "\n",
    "# Example usage:\n",
    "arr = [2,8,5,3,9,4,1]\n",
    "bubble_sort(arr)\n",
    "print(\"Sorted array is:\", arr)"
   ]
  },
  {
   "cell_type": "markdown",
   "id": "2c9a612c-84e8-442c-a3bf-2a403a9585d9",
   "metadata": {},
   "source": [
    "## Merge Sort"
   ]
  },
  {
   "cell_type": "markdown",
   "id": "8d191a44-66df-4a41-91d8-14179fa880da",
   "metadata": {},
   "source": [
    "Merge sort is a popular sorting algorithm that follows the divide-and-conquer strategy. It works by recursively dividing the input array into smaller subarrays, sorting each subarray, and then merging the sorted subarrays to produce a fully sorted array.\n",
    "\n",
    "Here's how merge sort typically works:\n",
    "\n",
    " - Divide: Split the input array into two halves.\n",
    "\n",
    " - Conquer: Recursively apply merge sort to each half, until each subarray contains only one element (which is inherently sorted).\n",
    "\n",
    " - Merge: Merge the sorted subarrays back together to produce a single sorted array. This involves comparing elements from each subarray and placing them in the correct order.\n",
    "\n",
    "The runtime complexity of merge sort is $O(n.log(n))$, where $n$ is the number of elements in the input array. This makes merge sort very efficient for large datasets."
   ]
  },
  {
   "cell_type": "code",
   "execution_count": 3,
   "id": "9ebad063-baa3-4b4c-bdf5-05af515d2bf2",
   "metadata": {},
   "outputs": [],
   "source": [
    "def merge_sort(arr):\n",
    "    if len(arr) <= 1:\n",
    "        return arr #When we get single element arrays, we've done enough splitting\n",
    "    \n",
    "    # Divide the array in half. We use floor, as we could have an odd array, giving unequal halves\n",
    "    mid = len(arr) // 2\n",
    "    left_half = arr[:mid]\n",
    "    right_half = arr[mid:]\n",
    "    \n",
    "    # Recursively apply merge_sort to each half, until we have single elements. \n",
    "    left_half = merge_sort(left_half)\n",
    "    right_half = merge_sort(right_half)\n",
    "    # Merge the sorted halves\n",
    "    return merge(left_half, right_half)"
   ]
  },
  {
   "cell_type": "markdown",
   "id": "05254015-f948-45fe-aca3-b198cac892f7",
   "metadata": {},
   "source": [
    "In the above function, it appears as though the *left_half* and *right_half* variables should get reassigned in each recursive call. However this is not the case. In each recursive call, it has it's own **Stack Frame**. This is an instance of the Stack data structure, we will look at later. \n",
    "\n",
    "Essentially however, the Stack Frame contains information about the execution context. This includes information on Local Variables, Function Parameters, and the Return Address of the function (where it should return to in memory after it is called). "
   ]
  },
  {
   "cell_type": "code",
   "execution_count": 4,
   "id": "a88c94f0-f6f4-4cf3-ba87-8074eca7b18d",
   "metadata": {},
   "outputs": [],
   "source": [
    "def merge(left, right):\n",
    "    merged = []\n",
    "    left_idx, right_idx = 0, 0\n",
    "    \n",
    "    # Compare elements from left and right subarrays\n",
    "    while left_idx < len(left) and right_idx < len(right):\n",
    "        if left[left_idx] < right[right_idx]:\n",
    "            merged.append(left[left_idx])\n",
    "            left_idx += 1\n",
    "        else:\n",
    "            merged.append(right[right_idx])\n",
    "            right_idx += 1\n",
    "    \n",
    "    # Append any remaining elements\n",
    "    merged.extend(left[left_idx:])\n",
    "    merged.extend(right[right_idx:])\n",
    "    \n",
    "    return merged"
   ]
  },
  {
   "cell_type": "code",
   "execution_count": 5,
   "id": "0a49be3d-1fbe-41fb-8970-ca04aa472930",
   "metadata": {},
   "outputs": [
    {
     "name": "stdout",
     "output_type": "stream",
     "text": [
      "[1, 2, 3, 4, 5, 8, 9]\n"
     ]
    }
   ],
   "source": [
    "# Example usage:\n",
    "arr = [2,8,5,3,9,4,1]\n",
    "sorted_arr = merge_sort(arr)\n",
    "print(sorted_arr)  "
   ]
  },
  {
   "cell_type": "markdown",
   "id": "91eede93-a49e-48d2-b9de-4e9161988708",
   "metadata": {},
   "source": [
    "## Insertion Sort"
   ]
  },
  {
   "cell_type": "markdown",
   "id": "66261db1-e142-4cca-b109-a648d41ff019",
   "metadata": {},
   "source": [
    "Insertion sort is a simple sorting algorithm that builds the final sorted array one element at a time. It iterates through the array and, at each iteration, it removes one element from the input data and finds the correct position to insert it into the sorted portion of the array.\n",
    "\n",
    "Here's a step-by-step description of how insertion sort works:\n",
    "\n",
    "1. **Start with the second element:** The first element of the array is considered to be a sorted sub-array of size one. So, the algorithm begins with the second element (index 1) of the array.\n",
    "\n",
    "2. **Iterate through the unsorted portion:** Iterate through the unsorted portion of the array, starting from the second element.\n",
    "\n",
    "3. **Insert the current element into the sorted portion:** Compare the current element with the elements in the sorted portion of the array, moving from right to left. Shift elements in the sorted portion to the right until you find the correct position for the current element.\n",
    "\n",
    "4. **Repeat:** Repeat steps 2-3 until all elements have been included in the sorted portion of the array.\n",
    "\n",
    "Insertion sort is an \"in-place\" sorting algorithm, meaning it does not require any extra space other than the array being sorted. It is also stable, meaning it preserves the relative order of equal elements in the sorted array.\n",
    "\n",
    "Although insertion sort has a worst-case time complexity of $O(n^2)$, it performs well on small lists or nearly sorted lists. Additionally, it has efficient performance when the input array is already partially sorted or nearly sorted. However, for larger arrays, more efficient algorithms such as quicksort or mergesort are usually preferred."
   ]
  },
  {
   "cell_type": "code",
   "execution_count": 6,
   "id": "62f6175b-338d-4d7a-9153-d4c7935d86f0",
   "metadata": {},
   "outputs": [
    {
     "name": "stdout",
     "output_type": "stream",
     "text": [
      "Sorted array is: [1, 2, 3, 4, 5, 8, 9]\n"
     ]
    }
   ],
   "source": [
    "def insertion_sort(arr):\n",
    "    # Traverse through 1 to len(arr)\n",
    "    for i in range(1, len(arr)):\n",
    "        key = arr[i]\n",
    "        # Move elements of arr[0..i-1], that are greater than key, to one position ahead of their current position\n",
    "        j = i - 1\n",
    "        while j >= 0 and key < arr[j]:\n",
    "            arr[j + 1] = arr[j]\n",
    "            j -= 1\n",
    "        arr[j + 1] = key\n",
    "\n",
    "# Example usage:\n",
    "arr = [2,8,5,3,9,4,1]\n",
    "insertion_sort(arr)\n",
    "print(\"Sorted array is:\", arr)"
   ]
  },
  {
   "cell_type": "markdown",
   "id": "ce3a0f30-33cf-4b6f-80b5-be9418f1eedf",
   "metadata": {},
   "source": [
    "## Quick Sort"
   ]
  },
  {
   "cell_type": "markdown",
   "id": "3c35bd26-9682-467c-b929-97faad62d911",
   "metadata": {},
   "source": [
    "Quicksort is a highly efficient sorting algorithm that works by partitioning an array into two sub-arrays, then recursively sorting each sub-array. It follows the divide-and-conquer strategy. The key idea behind quicksort is to select a 'pivot' element from the array and partition the other elements into two sub-arrays according to whether they are less than or greater than the pivot. \n",
    "\n",
    "Here's a step-by-step explanation of the Quicksort algorithm:\n",
    "\n",
    "1. **Choose a Pivot:** Select a pivot element from the array. This pivot can be chosen in various ways, such as selecting the first element, the last element, a random element, or even the median of the array.\n",
    "\n",
    "2. **Partitioning:** Rearrange the elements in the array so that all elements less than the pivot come before it, and all elements greater than the pivot come after it. After this partitioning, the pivot is in its final sorted position.\n",
    "\n",
    "3. **Recursively Sort Sub-arrays:** Recursively apply the above steps to the sub-arrays formed by partitioning the array at the pivot. That is, apply Quicksort to the sub-array of elements less than the pivot and the sub-array of elements greater than the pivot.\n",
    "\n",
    "4. **Combine:** Once all the recursive calls have completed, the entire array will be sorted.\n",
    "\n",
    "5. **Base Case:** The base case for the recursion is when the sub-array has zero or one element, in which case it is already considered sorted.\n",
    "\n",
    "Quicksort has an average and best-case time complexity of $O(n.log(n))$, where n is the number of elements in the array. However, in the worst case (when the pivot is poorly chosen, leading to highly unbalanced partitions), the time complexity can degrade to $O(n^2)$. Despite this worst-case scenario, Quicksort is often faster in practice compared to other $O(n.log(n))$ sorting algorithms like Merge Sort and Heap Sort, especially for large datasets, due to its cache efficiency and low overhead."
   ]
  },
  {
   "cell_type": "code",
   "execution_count": 7,
   "id": "3b539602-16e8-4342-af03-fdcb24cd3bdb",
   "metadata": {},
   "outputs": [],
   "source": [
    "def median_of_three(arr): #Here we use the median of three method to get the pivot\n",
    "    low = 0 #Set index 1 = beginning of array\n",
    "    high = len(arr) - 1 #Set index 2 = end of array\n",
    "    mid = (low + high) // 2 # Using the floor function (we need integer values) calculate the midpoint.\n",
    "    a = arr[low]\n",
    "    b = arr[mid]\n",
    "    c = arr[high]\n",
    "    #As the array is unsorted, we need to check which of these values is the midpoint, and then return that index as the pivot index \n",
    "    if a <= b <= c or c <= b <= a: \n",
    "        return mid\n",
    "    elif b <= a <= c or c <= a <= b:\n",
    "        return low\n",
    "    else:\n",
    "        return high"
   ]
  },
  {
   "cell_type": "code",
   "execution_count": 8,
   "id": "66229810-2dd6-4560-81b5-275ba4822001",
   "metadata": {},
   "outputs": [],
   "source": [
    "def partition(arr):\n",
    "    pivot_index = median_of_three(arr)\n",
    "    pivot = arr[pivot_index]\n",
    "    # Swap pivot element with the last element\n",
    "    arr[pivot_index], arr[-1] = arr[-1], arr[pivot_index]\n",
    "    \n",
    "    i = -1\n",
    "    for j in range(len(arr) - 1): #iterating through the entire array\n",
    "        #if we find an element lesser than the pivot element, we swap it with i, incrementing from -1 upwards\n",
    "        if arr[j] <= pivot:\n",
    "            i += 1\n",
    "            arr[i], arr[j] = arr[j], arr[i]\n",
    "    #We then swap the pivot element, with the element just above the largest value which is less than the pivot\n",
    "    arr[i+1], arr[-1] = arr[-1], arr[i+1]\n",
    "    #The pivot is now in the correct index, with everything larger to the right, and everything lesser to the left\n",
    "    return i + 1    "
   ]
  },
  {
   "cell_type": "code",
   "execution_count": 9,
   "id": "401f7d3b-591c-4674-ab68-28fc4e4806bb",
   "metadata": {},
   "outputs": [],
   "source": [
    "def quicksort(arr):\n",
    "    if len(arr) <= 1: # If we're trying to split 1 element, we just return the element\n",
    "        return arr\n",
    "    pivot_index = partition(arr)\n",
    "    return quicksort(arr[:pivot_index]) + [arr[pivot_index]] + quicksort(arr[pivot_index + 1:]) # Recursively call the quicksort function, until \n",
    "# only 1 element lists are left to be joined , which will be step 4 in the checklist above"
   ]
  },
  {
   "cell_type": "code",
   "execution_count": 10,
   "id": "c499af98-b091-4a16-8afd-d133bbaeef68",
   "metadata": {},
   "outputs": [
    {
     "name": "stdout",
     "output_type": "stream",
     "text": [
      "Sorted array is: [1, 2, 3, 4, 5, 8, 9]\n"
     ]
    }
   ],
   "source": [
    "# Example usage:\n",
    "arr = [2,8,5,3,9,4,1]\n",
    "sorted_arr = quicksort(arr)\n",
    "print(\"Sorted array is:\", sorted_arr)"
   ]
  },
  {
   "cell_type": "markdown",
   "id": "d367b62d-2986-4593-93ba-16a6e579fd32",
   "metadata": {},
   "source": [
    "## Heap Sort"
   ]
  },
  {
   "cell_type": "markdown",
   "id": "f7d81042-e29c-4b1b-a477-6938f9301bbd",
   "metadata": {},
   "source": [
    "Heap sort is a comparison-based sorting algorithm that uses a binary heap data structure to sort elements. It is an in-place algorithm, meaning it sorts the array without requiring additional space.\n",
    "\n",
    "Here's a brief overview of how heap sort works:\n",
    "\n",
    "1. **Heapify the array:** First, the input array is converted into a binary heap. This is done by repeatedly calling a function called \"heapify\" on the array, starting from the last non-leaf node and moving upwards towards the root. This ensures that each subtree of the array satisfies the heap property, where the parent node is greater (for max-heap) or smaller (for min-heap) than its children.\n",
    "\n",
    "2. **Extract elements from the heap:** After heapifying the array, the largest (for max-heap) or smallest (for min-heap) element is always at the root of the heap. We repeatedly remove this element from the root and swap it with the last element of the heap (which is then considered part of the sorted array). This operation \"extracts\" elements from the heap in sorted order.\n",
    "\n",
    "3. **Heapify again:** After removing an element from the heap, the remaining elements may no longer satisfy the heap property. To restore the heap property, we call the heapify operation again on the reduced heap, excluding the sorted elements.\n",
    "\n",
    "Repeat: Steps 2 and 3 are repeated until the heap is empty, and all elements have been extracted and placed in their correct positions in the sorted array.\n",
    "\n",
    "Heap sort has a time complexity of $O(n.log(n))$ in all cases, making it efficient for sorting large datasets. Now, let's implement heap sort in Python:"
   ]
  },
  {
   "cell_type": "code",
   "execution_count": 11,
   "id": "d1131028-bf68-408d-b737-0ccce92ea0aa",
   "metadata": {},
   "outputs": [],
   "source": [
    "#Here we essentially work our way 'down' the binary tree, from a given non-leaf node. We follow the largest child recursively down, to ensure the \n",
    "#heap property is maintained \n",
    "def heapify(arr, n, i): \n",
    "    largest = i  # Initialize largest as root\n",
    "    l = 2 * i + 1  # left child\n",
    "    r = 2 * i + 2  # right child\n",
    "\n",
    "    # Check if left child exists and is greater than root\n",
    "    if l < n and arr[l] > arr[largest]:\n",
    "        largest = l\n",
    "\n",
    "    # Check if right child exists and is greater than largest so far\n",
    "    if r < n and arr[r] > arr[largest]:\n",
    "        largest = r\n",
    "\n",
    "    # Change root, if needed\n",
    "    if largest != i:\n",
    "        arr[i], arr[largest] = arr[largest], arr[i]  # Swap\n",
    "        # Heapify the root.\n",
    "        heapify(arr, n, largest)"
   ]
  },
  {
   "cell_type": "code",
   "execution_count": 12,
   "id": "155ffbb5-5b12-428f-8fb5-320c2289dddd",
   "metadata": {},
   "outputs": [],
   "source": [
    "#Here, we first take our array, and starting halfway through the array (our first parent node), heapify each parent node, up to the root, by decrementing\n",
    "#the array index each time we call heapify. This creates a max heap\n",
    "def heap_sort(arr):\n",
    "    n = len(arr)\n",
    "\n",
    "    # Build a maxheap.\n",
    "    for i in range(n // 2 - 1, -1, -1):\n",
    "        heapify(arr, n, i)\n",
    "\n",
    "    # One by one extract elements, calling heapify from the last non-removed element each time, to ensure max heap is maintained before swapping the root\n",
    "    #and corresponding leaf node. \n",
    "    for i in range(n - 1, 0, -1):\n",
    "        arr[i], arr[0] = arr[0], arr[i]  # Swap\n",
    "        heapify(arr, i, 0)"
   ]
  },
  {
   "cell_type": "code",
   "execution_count": 13,
   "id": "04fc98a2-3fb4-4587-baad-91837dfd83d7",
   "metadata": {},
   "outputs": [
    {
     "name": "stdout",
     "output_type": "stream",
     "text": [
      "Sorted array is: [1, 2, 3, 4, 5, 8, 9]\n"
     ]
    }
   ],
   "source": [
    "# Example usage:\n",
    "arr = [2,8,5,3,9,4,1]\n",
    "heap_sort(arr)\n",
    "print(\"Sorted array is:\", arr)\n"
   ]
  },
  {
   "cell_type": "markdown",
   "id": "09d67f7e-6784-4047-8ed2-ddbb7b5e8ec8",
   "metadata": {},
   "source": [
    "# Data Structures"
   ]
  },
  {
   "cell_type": "markdown",
   "id": "d86649df-bf30-44b5-a261-b54a0a7d9fb3",
   "metadata": {},
   "source": [
    "Data structures in Python are fundamental components that allow you to organize, store, and manipulate data efficiently. Python provides a rich set of built-in data structures as well as modules and libraries for more specialized data structures. Here's a brief introduction to some commonly used data structures in Python:\n",
    "\n",
    "1. **Lists:**\n",
    " - Lists are ordered collections of items that can hold elements of different data types. They are mutable, meaning you can change, add, and remove elements after the list is created. Lists are versatile and widely used for storing sequences of items.\n",
    "\n",
    "2. **Tuples:**\n",
    " - Tuples are similar to lists but are immutable, meaning their elements cannot be modified after creation. They are often used to represent fixed collections of items, such as coordinates or records. Tuples are also faster and more memory-efficient than lists.\n",
    "\n",
    "3. **Dictionaries:**\n",
    " - Dictionaries are unordered collections of key-value pairs. They provide fast lookups by key and are commonly used for mapping unique keys to values. Dictionaries are flexible and can store heterogeneous data types as both keys and values.\n",
    "   \n",
    "4. **Sets:**\n",
    " - Sets are unordered collections of unique elements. They are useful for eliminating duplicates and performing set operations like union, intersection, and difference. Sets are implemented using hash tables, making membership tests and set operations very efficient.\n",
    "   \n",
    "5. **Strings:**\n",
    " - Strings are immutable sequences of characters. They are used to represent text data and support various string manipulation operations, such as slicing, concatenation, and formatting.\n",
    "   \n",
    "6. **Arrays:**\n",
    " - Arrays are homogeneous collections of items with a fixed size. They are implemented by the array module and are useful for numerical computations and efficient memory usage."
   ]
  },
  {
   "cell_type": "markdown",
   "id": "5ade7234-d79a-4c2f-bd9a-973b3f5dcba9",
   "metadata": {},
   "source": [
    "## Stacks"
   ]
  },
  {
   "cell_type": "markdown",
   "id": "eca3a9e0-303f-4212-ad56-049093c96c71",
   "metadata": {},
   "source": [
    "A stack is a data structure that follows the Last-In, First-Out (LIFO) principle, where the last element added is the first one removed. Key points about stacks include:\n",
    "\n",
    " - **Operations:** Stacks support two main operations:\n",
    " - - **Push:** Adds an element to the top of the stack.\n",
    " - - **Pop:** Removes and returns the top element of the stack.\n",
    "<br><br>\n",
    " - **Implementation:** Stacks can be implemented using arrays or linked lists. Arrays offer constant-time access but may require resizing, while linked lists provide dynamic memory allocation and efficient insertion/deletion.\n",
    "\n",
    " - **Applications:** Stacks are used in various algorithms and applications, including function call management (like we had mentioned above in the recursive function call in Mergesort), expression evaluation, undo mechanisms, and backtracking algorithms.\n",
    "\n",
    " - **Time Complexity:** Stack operations typically have a time complexity of O(1) (constant time) for both push and pop operations.\n",
    "\n",
    " - **Stack Memory:** In computer memory management, a stack is a region of memory used to store data temporarily during program execution, such as function call information.\n",
    "\n",
    "Overall, stacks are versatile data structures with efficient operations and find wide use in computer science and programming for managing function calls, evaluating expressions, and implementing various algorithms. See below where we implement a Stack Class using Lists! You can take a look inside the module itself, in the Stack.py file included within this directory. "
   ]
  },
  {
   "cell_type": "code",
   "execution_count": 14,
   "id": "691cd337-4560-4551-b0f4-131ef1f4be47",
   "metadata": {},
   "outputs": [],
   "source": [
    "from Stack import Stack "
   ]
  },
  {
   "cell_type": "code",
   "execution_count": 15,
   "id": "d78be509-57dd-4a30-8808-f31f3e79492b",
   "metadata": {},
   "outputs": [
    {
     "name": "stdout",
     "output_type": "stream",
     "text": [
      "Stack size: 3\n",
      "Top element: 3\n",
      "Popped element: 3\n",
      "Stack size after pop: 2\n"
     ]
    }
   ],
   "source": [
    "stack = Stack() #Instantiating our Stack\n",
    "stack.push(1) # Pushing 1,2 and then 3 into our Stack\n",
    "stack.push(2)\n",
    "stack.push(3)\n",
    "print(\"Stack size:\", stack.size_stack())  # \n",
    "print(\"Top element:\", stack.peek())  # Output: 3\n",
    "print(\"Popped element:\", stack.pop())  # Output: 3\n",
    "print(\"Stack size after pop:\", stack.size_stack())  # Output: 2"
   ]
  },
  {
   "cell_type": "markdown",
   "id": "f4d0afcf-ce78-4cc9-bfef-c80cde4027bd",
   "metadata": {},
   "source": [
    "A handy way I found to think about Stacks was a vertical stack, where you can only interact with the top element based on the LIFO principle. "
   ]
  },
  {
   "cell_type": "markdown",
   "id": "3e6c4b7b-da32-49f9-bb80-a7810bb614f5",
   "metadata": {},
   "source": [
    "## Queues"
   ]
  },
  {
   "cell_type": "markdown",
   "id": "a3690873-0bc3-47fe-9b08-d9728fbe512d",
   "metadata": {},
   "source": [
    "A queue is a data structure in Python that follows the First In, First Out (FIFO) principle, meaning that the first element added to the queue will be the first one to be removed. Oh my gosh, the complete opposite of a Stack. You can think of it like a line of people waiting for a service where the person who arrived first is served first. Imagine a line of peope that followed the LIFO principle.\n",
    "\n",
    "In Python, you can implement a queue using various data structures such as lists, collections.deque, or queue.Queue from the built-in queue module.\n",
    "\n",
    "Again, we're going to write our own Queue Class using lists, located in this same directory. This will have an enqueu and dequeue method (for adding/removing elements from the queue), a peek method, a size method and a method that checks if the queue is empty or not. \n",
    "\n",
    "See below for the test case of the class."
   ]
  },
  {
   "cell_type": "code",
   "execution_count": 16,
   "id": "2105891e-5aff-4ec3-a4e1-03d7365d632a",
   "metadata": {},
   "outputs": [],
   "source": [
    "from Queue import Queue"
   ]
  },
  {
   "cell_type": "code",
   "execution_count": 17,
   "id": "f1f00a10-1240-455a-ab94-7f4565234949",
   "metadata": {},
   "outputs": [
    {
     "name": "stdout",
     "output_type": "stream",
     "text": [
      "Queue size: 3\n",
      "Front of queue: 1\n",
      "Dequeued item: 3\n",
      "Queue size after dequeue: 2\n"
     ]
    }
   ],
   "source": [
    "# Example usage:\n",
    "q = Queue()\n",
    "q.enqueue(1)\n",
    "q.enqueue(2)\n",
    "q.enqueue(3)\n",
    "print(\"Queue size:\", q.size())  \n",
    "print(\"Front of queue:\", q.peek())  \n",
    "print(\"Dequeued item:\", q.dequeue()) \n",
    "print(\"Queue size after dequeue:\", q.size())  "
   ]
  },
  {
   "cell_type": "markdown",
   "id": "cf434a3c-47db-4902-9de9-ac8afabaed77",
   "metadata": {},
   "source": [
    "I found the shopping line analogy to be the best way to think about queues!"
   ]
  },
  {
   "cell_type": "markdown",
   "id": "1195943a-9854-4e16-b3ed-8ddf6635907a",
   "metadata": {},
   "source": [
    "## Linked Lists"
   ]
  },
  {
   "cell_type": "markdown",
   "id": "accf25b7-90b5-42bd-8fab-1eaba5e16029",
   "metadata": {},
   "source": [
    "Linked lists are a fundamental data structure in computer science used for storing and managing collections of elements. Unlike arrays, which store elements in contiguous memory locations, linked lists store elements in nodes where each node contains a reference (or pointer) to the next node in the sequence. Here are the key components and concepts of linked lists:\n",
    "<br> \n",
    " - **Node:** A node is the basic building block of a linked list. Each node contains two fields:\n",
    "<br> \n",
    " - - **Data:** This field stores the actual element or data that the node holds.\n",
    "<br> \n",
    " - - **Next:** This field is a reference (or pointer) to the next node in the sequence.\n",
    "<br> \n",
    " - **Head:** The head of the linked list is a reference to the first node in the sequence. It serves as the starting point for accessing elements in the list.\n",
    "<br> \n",
    " - **Tail:** In some implementations, the tail of the linked list is a reference to the last node in the sequence. It can be useful for efficiently adding elements to the end of the list.\n",
    "<br> \n",
    " - **Singly Linked List:** In a singly linked list, each node contains only one reference to the next node in the sequence. Traversal in a singly linked list can only be done in one direction, starting from the head and proceeding through each subsequent node until the end of the list is reached.\n",
    "<br> \n",
    " - **Doubly Linked List:** In a doubly linked list, each node contains two references: one to the next node and one to the previous node in the sequence. This allows traversal in both forward and backward directions."
   ]
  },
  {
   "cell_type": "markdown",
   "id": "fa09f358-a2f4-4f4f-af81-04c7a75acced",
   "metadata": {},
   "source": [
    "See below for a graphical representation of a linked list: "
   ]
  },
  {
   "cell_type": "markdown",
   "id": "905b5ad3-798f-4704-bee8-d32d933e28fe",
   "metadata": {},
   "source": [
    "[Head] -> [Data][Next] -> [Data][Next] -> [Data][Next] -> [Tail] -> [Data][Next] -> [None]"
   ]
  },
  {
   "cell_type": "code",
   "execution_count": 18,
   "id": "a331a191-ebd9-43c3-b9da-557b3443b0b9",
   "metadata": {},
   "outputs": [],
   "source": [
    "from LinkedList import LinkedList, Node"
   ]
  },
  {
   "cell_type": "code",
   "execution_count": 19,
   "id": "3ba64309-5529-4746-8c12-86f9dd696dbc",
   "metadata": {},
   "outputs": [
    {
     "name": "stdout",
     "output_type": "stream",
     "text": [
      "Linked List:\n",
      "2 -> 1 -> 4 -> None\n",
      "Linked List after insertion:\n",
      "2 -> 1 -> 3 -> 4 -> None\n"
     ]
    }
   ],
   "source": [
    "linked_list = LinkedList()\n",
    "\n",
    "# Inserting elements into the linked list\n",
    "linked_list.insert_at_end(1)\n",
    "linked_list.insert_at_beginning(2)\n",
    "linked_list.insert_at_end(4)\n",
    "\n",
    "# Display the linked list\n",
    "print(\"Linked List:\")\n",
    "linked_list.display()\n",
    "\n",
    "# Find the node after which you want to insert, we're going to go after node 2. We must define this node, rather than position value for insert_after_node\n",
    "prev_node = linked_list.Head.next \n",
    "\n",
    "# Insert a new node after the specified node\n",
    "linked_list.insert_after_node(3, prev_node)\n",
    "\n",
    "# Display the updated linked list\n",
    "print(\"Linked List after insertion:\")\n",
    "linked_list.display()"
   ]
  },
  {
   "cell_type": "markdown",
   "id": "e4f017ea-26cd-4456-a1f2-13d8fa242c79",
   "metadata": {},
   "source": [
    "In my head, I think it easier to think of linked lists as lists of tuples, where each tuple element 0 contains the data, and element 1 contains the the pointer to the next element. \n",
    "\n",
    "This Data Structure offers a few advantages compared to their array counterparts, and simultaneously a few disadvantages: "
   ]
  },
  {
   "cell_type": "markdown",
   "id": "407b8074-c865-4543-808d-bbe4760735ca",
   "metadata": {},
   "source": [
    "**Advantages:**\n",
    "\n",
    " - Dynamic size: Linked lists can grow or shrink dynamically, allowing for efficient insertion and deletion of elements.\n",
    "No need for contiguous memory: Unlike arrays, linked lists do not require contiguous memory allocation, making them more flexible in memory management.\n",
    "\n",
    " - Easy insertion and deletion: Adding or removing elements at any position in the list can be done with constant time complexity (assuming you have a reference to the node).\n",
    "\n",
    "**Disadvantages:**\n",
    "\n",
    " - No random access: Unlike arrays, accessing elements in a linked list by index requires traversing the list from the beginning, resulting in linear time complexity.\n",
    "   \n",
    " - Extra memory overhead: Linked lists require additional memory for storing the pointers/references, which can increase memory usage compared to arrays."
   ]
  },
  {
   "cell_type": "markdown",
   "id": "750c8b53-ebaf-466d-9709-63407dc4dcf8",
   "metadata": {},
   "source": [
    "## Trees"
   ]
  },
  {
   "cell_type": "markdown",
   "id": "5b16a444-bf1f-4143-b3db-442b62b7362e",
   "metadata": {},
   "source": [
    "A tree is a hierarchical data structure that consists of nodes connected by edges. It is widely used in computer science for representing hierarchical relationships and organizing data in a hierarchical manner. Trees are recursive data structures, meaning that each node can have children nodes, which themselves can have their own children nodes, forming a hierarchical structure.\n",
    "\n",
    "Some terminology to note, nodes in a elements, containing data with links to other nodes. The root is the uppermost node. Nodes have a Parent to child relationship, where nodes 'higher' in the tree are parents to nodes they are directly connected to in the below layer. Nodes with no children are known as leaves. The height of a tree is the number of layers (or generations), and the depth of a node is the number of generations from the root to that node. \n",
    "\n",
    "A special implementation of Tree's are heaps. These are trees, which satisfy the heap property, in that parents are always larger/smaller for max/min heaps respectively. Min Heaps are used in Dijkstra's pathfinding algorithm in order to construct a Priority Queue. \n",
    "\n",
    "We're going to import a Tree Class, and visualise it below:"
   ]
  },
  {
   "cell_type": "code",
   "execution_count": 25,
   "id": "0c5996e9-0ccc-4142-9c80-f9410df8dffa",
   "metadata": {},
   "outputs": [],
   "source": [
    "from BinaryTree import BinaryTree"
   ]
  },
  {
   "cell_type": "code",
   "execution_count": 32,
   "id": "da3b045a-b4cd-4ec7-a423-bf578e464ffc",
   "metadata": {},
   "outputs": [
    {
     "name": "stdout",
     "output_type": "stream",
     "text": [
      "[2, 3, 4, 5, 6, 7, 8]\n",
      "<BinaryTree.TreeNode object at 0x000001FCD9C5AC10>\n",
      "6\n",
      "None\n",
      "None\n"
     ]
    }
   ],
   "source": [
    "tree = BinaryTree()\n",
    "tree.insert_value(5)\n",
    "tree.insert_value(3)\n",
    "tree.insert_value(7)\n",
    "tree.insert_value(2)\n",
    "tree.insert_value(4)\n",
    "tree.insert_value(6)\n",
    "tree.insert_value(8)\n",
    "\n",
    "print(tree.traverse_tree())  \n",
    "print(tree.search_value(6))  \n",
    "print(tree.search_value(6).value)\n",
    "print(tree.search_value(6).left)\n",
    "print(tree.search_value(6).right)"
   ]
  },
  {
   "cell_type": "markdown",
   "id": "895bab7a-8b1e-46b1-b4dc-351b733ebb28",
   "metadata": {},
   "source": [
    "Looking at the above, we can add elements to the tree, list the elements in ascending order, and search for nodes. Here we look for the value 6, and initially return a TreeNode object. This is a class defined within the module we imported, with each node being of this class. Based on the fact the right/left attributes for the node 6 are None, we can use our incredible powers of deduction to ascertain that this is a leaf node. "
   ]
  },
  {
   "cell_type": "markdown",
   "id": "79a05cb9-232a-4059-8881-796febef9e98",
   "metadata": {},
   "source": [
    "## Hash Tables"
   ]
  },
  {
   "cell_type": "markdown",
   "id": "5733c2c1-aab5-46b5-8c70-0429c6a98749",
   "metadata": {},
   "source": [
    "Hash tables, also known as hash maps or dictionaries, are data structures that store key-value pairs, providing fast retrieval based on keys. They use a hash function to compute an index for each key, which determines where the corresponding value is stored in an array-like data structure called buckets or slots.\n",
    "\n",
    "Insertion involves applying the hash function to compute the index and storing the value at that index, handling collisions with various techniques like chaining or open addressing.  Searching for a value involves applying the hash function to the key to determine its index and retrieving the value stored at that index, resolving collisions as needed. Collisions are when the has function maps a key to an index that is already occupied. Chaining and Open Indexing are used to address this issue. Chaining is when every bucket in the hash tablle is a linked list, such that an index can contain multiple items. Open Addressing involves seaching for a new, unoccupied index in the table. \n",
    "\n",
    "Deletion removes a key-value pair by locating the key's index using the hash function and removing the value stored at that index. Collision resolution techniques handle cases where multiple keys produce the same hash code. Hash tables find applications in implementing associative arrays, dictionaries, and maps in programming languages, database indexing, caching, and optimizing algorithms. They offer efficient storage and retrieval of key-value pairs, essential in various applications where fast access to data is crucial."
   ]
  },
  {
   "cell_type": "code",
   "execution_count": 33,
   "id": "4e64fbab-5732-4f2a-8572-c55f5704885a",
   "metadata": {},
   "outputs": [],
   "source": [
    "from HashTable import HashTable"
   ]
  },
  {
   "cell_type": "code",
   "execution_count": 35,
   "id": "f93f9905-122b-4a13-8d37-f8b657881e5c",
   "metadata": {},
   "outputs": [],
   "source": [
    "# Create a new instance of HashTable\n",
    "hash_table = HashTable(size=10)\n",
    "\n",
    "# Test inserting key-value pairs\n",
    "hash_table.insert(\"apple\", 5)\n",
    "hash_table.insert(\"banana\", 10)\n",
    "hash_table.insert(\"orange\", 15)\n",
    "\n",
    "# Test getting values for existing keys\n",
    "assert hash_table.get(\"apple\") == 5\n",
    "assert hash_table.get(\"banana\") == 10\n",
    "assert hash_table.get(\"orange\") == 15"
   ]
  },
  {
   "cell_type": "code",
   "execution_count": 36,
   "id": "63cb2c70-00e0-4aba-99d1-5b48bd5f2fa6",
   "metadata": {},
   "outputs": [
    {
     "name": "stdout",
     "output_type": "stream",
     "text": [
      "Key 'grape' not found in the hash table.\n"
     ]
    }
   ],
   "source": [
    "# Test getting value for a non-existing key\n",
    "try:\n",
    "    hash_table.get(\"grape\") \n",
    "except KeyError:\n",
    "    print(\"Key 'grape' not found in the hash table.\")"
   ]
  },
  {
   "cell_type": "code",
   "execution_count": 39,
   "id": "3ac388a9-f2a8-49d5-9e08-ecb7d2d0f913",
   "metadata": {},
   "outputs": [],
   "source": [
    "# Test updating an existing key\n",
    "hash_table.insert(\"apple\", 8)  # Update value for key \"apple\"\n",
    "assert hash_table.get(\"apple\") == 8"
   ]
  },
  {
   "cell_type": "code",
   "execution_count": 40,
   "id": "46c3f33e-ff7a-49f6-8eb7-6c6a2499dd46",
   "metadata": {},
   "outputs": [
    {
     "name": "stdout",
     "output_type": "stream",
     "text": [
      "Key 'banana' not found in the hash table.\n"
     ]
    }
   ],
   "source": [
    "# Test deleting an existing key\n",
    "hash_table.delete(\"banana\")\n",
    "try:\n",
    "    hash_table.get(\"banana\")  # Attempt to get the value for the deleted key \"banana\"\n",
    "except KeyError:\n",
    "    print(\"Key 'banana' not found in the hash table.\")"
   ]
  },
  {
   "cell_type": "code",
   "execution_count": 41,
   "id": "6314e0ce-82ca-4192-804e-8f9412dbefee",
   "metadata": {},
   "outputs": [
    {
     "name": "stdout",
     "output_type": "stream",
     "text": [
      "Key 'grape' not found in the hash table.\n"
     ]
    }
   ],
   "source": [
    "# Test deleting a non-existing key\n",
    "try:\n",
    "    hash_table.delete(\"grape\")  # Attempt to delete a non-existing key \"grape\"\n",
    "except KeyError:\n",
    "    print(\"Key 'grape' not found in the hash table.\")"
   ]
  }
 ],
 "metadata": {
  "kernelspec": {
   "display_name": "Python 3 (ipykernel)",
   "language": "python",
   "name": "python3"
  },
  "language_info": {
   "codemirror_mode": {
    "name": "ipython",
    "version": 3
   },
   "file_extension": ".py",
   "mimetype": "text/x-python",
   "name": "python",
   "nbconvert_exporter": "python",
   "pygments_lexer": "ipython3",
   "version": "3.11.7"
  }
 },
 "nbformat": 4,
 "nbformat_minor": 5
}
